{
  "cells": [
    {
      "cell_type": "markdown",
      "metadata": {
        "id": "smZ8IG7m9eGa"
      },
      "source": [
        "#**Distribution of Lifetime Gross Revenue PG Movies made by their MPAA rating - Chinmayee Channuri**\n",
        "\n",
        "I am attempting to understand the relationship between the MPAA ratings given to PG movies versus the Lifetime Gross Revenues they have made.  The Motion Picture Association, or MPAA,  film rating system is used in the United States to rate a motion picture's suitability in viewing for certain audiences. This includes G for general/all audiences, PG for parental guidance suggested, PG-13, may be inappropriate for children under 13, R for requires guardian if under 17, and NC-17 for adults only. The website I have used to scrape the data from organizes its data by the MPAA ranking system. But, I am interested to understand the nature of the distribution of the Lifetime Gross or Revenue a movie makes as their rank declines across the MPAA board. I have chosen specifically to stick to the PG rating for a hint of nostalgia!\n",
        "\n",
        "I am achieving this goal by utilizing ETL—extract, transform, load—methodologies and create a data reserve, or CSV file.\n",
        "\n",
        "I have used webscraping methods to extract data from an official IMDB website that aggregated over 1000+ movies and ranked them by their Lifetime Grosses/Revenues in USD. I have only extracted the first 200 rows as it would be sufficient to display any trends. Then, I transformed the data by checking for duplicates, clearing any possible noise, but most importantly, modifying the Lifetime Gross column to convert its data type using Lambda functions so we can manipulate it further. Lastly, I have loaded the transformed data frame into a CSV file to complete the last stage of the ETL cycle.\n",
        "\n",
        "After the ETL methodologies, I have used matplotlib to create a line graph with the variables of interest from my data frame. The line graph showed a strong and sharp exponential decay in Lifetime Gross by as the Ratings/Ranking declined.\n",
        "\n"
      ]
    },
    {
      "cell_type": "markdown",
      "metadata": {
        "id": "PFaGJI0AXDzv"
      },
      "source": [
        "# **DATA EXTRACTION**"
      ]
    },
    {
      "cell_type": "code",
      "execution_count": 2,
      "metadata": {
        "colab": {
          "base_uri": "https://localhost:8080/",
          "height": 424
        },
        "id": "_r5yLyxWqLKo",
        "outputId": "02acdcd0-4c07-45f6-dd57-a3f41166138e"
      },
      "outputs": [
        {
          "data": {
            "text/html": [
              "\n",
              "  <div id=\"df-03cd0c6f-4794-4184-aa30-a0f9de56deb6\" class=\"colab-df-container\">\n",
              "    <div>\n",
              "<style scoped>\n",
              "    .dataframe tbody tr th:only-of-type {\n",
              "        vertical-align: middle;\n",
              "    }\n",
              "\n",
              "    .dataframe tbody tr th {\n",
              "        vertical-align: top;\n",
              "    }\n",
              "\n",
              "    .dataframe thead th {\n",
              "        text-align: right;\n",
              "    }\n",
              "</style>\n",
              "<table border=\"1\" class=\"dataframe\">\n",
              "  <thead>\n",
              "    <tr style=\"text-align: right;\">\n",
              "      <th></th>\n",
              "      <th>Title</th>\n",
              "      <th>Rank</th>\n",
              "      <th>Lifetime Gross</th>\n",
              "      <th>Overall Rank</th>\n",
              "      <th>Year</th>\n",
              "    </tr>\n",
              "  </thead>\n",
              "  <tbody>\n",
              "    <tr>\n",
              "      <th>0</th>\n",
              "      <td>Incredibles 2</td>\n",
              "      <td>1</td>\n",
              "      <td>$608,581,744</td>\n",
              "      <td>14</td>\n",
              "      <td>2018</td>\n",
              "    </tr>\n",
              "    <tr>\n",
              "      <th>1</th>\n",
              "      <td>The Super Mario Bros. Movie</td>\n",
              "      <td>2</td>\n",
              "      <td>$574,934,330</td>\n",
              "      <td>15</td>\n",
              "      <td>2023</td>\n",
              "    </tr>\n",
              "    <tr>\n",
              "      <th>2</th>\n",
              "      <td>The Lion King</td>\n",
              "      <td>3</td>\n",
              "      <td>$543,638,043</td>\n",
              "      <td>16</td>\n",
              "      <td>2019</td>\n",
              "    </tr>\n",
              "    <tr>\n",
              "      <th>3</th>\n",
              "      <td>Beauty and the Beast</td>\n",
              "      <td>4</td>\n",
              "      <td>$504,481,165</td>\n",
              "      <td>20</td>\n",
              "      <td>2017</td>\n",
              "    </tr>\n",
              "    <tr>\n",
              "      <th>4</th>\n",
              "      <td>Finding Dory</td>\n",
              "      <td>5</td>\n",
              "      <td>$486,295,561</td>\n",
              "      <td>21</td>\n",
              "      <td>2016</td>\n",
              "    </tr>\n",
              "    <tr>\n",
              "      <th>...</th>\n",
              "      <td>...</td>\n",
              "      <td>...</td>\n",
              "      <td>...</td>\n",
              "      <td>...</td>\n",
              "      <td>...</td>\n",
              "    </tr>\n",
              "    <tr>\n",
              "      <th>195</th>\n",
              "      <td>The Lego Movie 2: The Second Part</td>\n",
              "      <td>196</td>\n",
              "      <td>$105,956,290</td>\n",
              "      <td>722</td>\n",
              "      <td>2019</td>\n",
              "    </tr>\n",
              "    <tr>\n",
              "      <th>196</th>\n",
              "      <td>The First Wives Club</td>\n",
              "      <td>197</td>\n",
              "      <td>$105,489,203</td>\n",
              "      <td>725</td>\n",
              "      <td>1996</td>\n",
              "    </tr>\n",
              "    <tr>\n",
              "      <th>197</th>\n",
              "      <td>George of the Jungle</td>\n",
              "      <td>198</td>\n",
              "      <td>$105,263,257</td>\n",
              "      <td>729</td>\n",
              "      <td>1997</td>\n",
              "    </tr>\n",
              "    <tr>\n",
              "      <th>198</th>\n",
              "      <td>The Graduate</td>\n",
              "      <td>199</td>\n",
              "      <td>$104,945,305</td>\n",
              "      <td>731</td>\n",
              "      <td>1967</td>\n",
              "    </tr>\n",
              "    <tr>\n",
              "      <th>199</th>\n",
              "      <td>Phenomenon</td>\n",
              "      <td>200</td>\n",
              "      <td>$104,636,382</td>\n",
              "      <td>733</td>\n",
              "      <td>1996</td>\n",
              "    </tr>\n",
              "  </tbody>\n",
              "</table>\n",
              "<p>200 rows × 5 columns</p>\n",
              "</div>\n",
              "    <div class=\"colab-df-buttons\">\n",
              "\n",
              "  <div class=\"colab-df-container\">\n",
              "    <button class=\"colab-df-convert\" onclick=\"convertToInteractive('df-03cd0c6f-4794-4184-aa30-a0f9de56deb6')\"\n",
              "            title=\"Convert this dataframe to an interactive table.\"\n",
              "            style=\"display:none;\">\n",
              "\n",
              "  <svg xmlns=\"http://www.w3.org/2000/svg\" height=\"24px\" viewBox=\"0 -960 960 960\">\n",
              "    <path d=\"M120-120v-720h720v720H120Zm60-500h600v-160H180v160Zm220 220h160v-160H400v160Zm0 220h160v-160H400v160ZM180-400h160v-160H180v160Zm440 0h160v-160H620v160ZM180-180h160v-160H180v160Zm440 0h160v-160H620v160Z\"/>\n",
              "  </svg>\n",
              "    </button>\n",
              "\n",
              "  <style>\n",
              "    .colab-df-container {\n",
              "      display:flex;\n",
              "      gap: 12px;\n",
              "    }\n",
              "\n",
              "    .colab-df-convert {\n",
              "      background-color: #E8F0FE;\n",
              "      border: none;\n",
              "      border-radius: 50%;\n",
              "      cursor: pointer;\n",
              "      display: none;\n",
              "      fill: #1967D2;\n",
              "      height: 32px;\n",
              "      padding: 0 0 0 0;\n",
              "      width: 32px;\n",
              "    }\n",
              "\n",
              "    .colab-df-convert:hover {\n",
              "      background-color: #E2EBFA;\n",
              "      box-shadow: 0px 1px 2px rgba(60, 64, 67, 0.3), 0px 1px 3px 1px rgba(60, 64, 67, 0.15);\n",
              "      fill: #174EA6;\n",
              "    }\n",
              "\n",
              "    .colab-df-buttons div {\n",
              "      margin-bottom: 4px;\n",
              "    }\n",
              "\n",
              "    [theme=dark] .colab-df-convert {\n",
              "      background-color: #3B4455;\n",
              "      fill: #D2E3FC;\n",
              "    }\n",
              "\n",
              "    [theme=dark] .colab-df-convert:hover {\n",
              "      background-color: #434B5C;\n",
              "      box-shadow: 0px 1px 3px 1px rgba(0, 0, 0, 0.15);\n",
              "      filter: drop-shadow(0px 1px 2px rgba(0, 0, 0, 0.3));\n",
              "      fill: #FFFFFF;\n",
              "    }\n",
              "  </style>\n",
              "\n",
              "    <script>\n",
              "      const buttonEl =\n",
              "        document.querySelector('#df-03cd0c6f-4794-4184-aa30-a0f9de56deb6 button.colab-df-convert');\n",
              "      buttonEl.style.display =\n",
              "        google.colab.kernel.accessAllowed ? 'block' : 'none';\n",
              "\n",
              "      async function convertToInteractive(key) {\n",
              "        const element = document.querySelector('#df-03cd0c6f-4794-4184-aa30-a0f9de56deb6');\n",
              "        const dataTable =\n",
              "          await google.colab.kernel.invokeFunction('convertToInteractive',\n",
              "                                                    [key], {});\n",
              "        if (!dataTable) return;\n",
              "\n",
              "        const docLinkHtml = 'Like what you see? Visit the ' +\n",
              "          '<a target=\"_blank\" href=https://colab.research.google.com/notebooks/data_table.ipynb>data table notebook</a>'\n",
              "          + ' to learn more about interactive tables.';\n",
              "        element.innerHTML = '';\n",
              "        dataTable['output_type'] = 'display_data';\n",
              "        await google.colab.output.renderOutput(dataTable, element);\n",
              "        const docLink = document.createElement('div');\n",
              "        docLink.innerHTML = docLinkHtml;\n",
              "        element.appendChild(docLink);\n",
              "      }\n",
              "    </script>\n",
              "  </div>\n",
              "\n",
              "\n",
              "<div id=\"df-d361d901-d69c-4c70-bdd0-0f6b24560147\">\n",
              "  <button class=\"colab-df-quickchart\" onclick=\"quickchart('df-d361d901-d69c-4c70-bdd0-0f6b24560147')\"\n",
              "            title=\"Suggest charts.\"\n",
              "            style=\"display:none;\">\n",
              "\n",
              "<svg xmlns=\"http://www.w3.org/2000/svg\" height=\"24px\"viewBox=\"0 0 24 24\"\n",
              "     width=\"24px\">\n",
              "    <g>\n",
              "        <path d=\"M19 3H5c-1.1 0-2 .9-2 2v14c0 1.1.9 2 2 2h14c1.1 0 2-.9 2-2V5c0-1.1-.9-2-2-2zM9 17H7v-7h2v7zm4 0h-2V7h2v10zm4 0h-2v-4h2v4z\"/>\n",
              "    </g>\n",
              "</svg>\n",
              "  </button>\n",
              "\n",
              "<style>\n",
              "  .colab-df-quickchart {\n",
              "      --bg-color: #E8F0FE;\n",
              "      --fill-color: #1967D2;\n",
              "      --hover-bg-color: #E2EBFA;\n",
              "      --hover-fill-color: #174EA6;\n",
              "      --disabled-fill-color: #AAA;\n",
              "      --disabled-bg-color: #DDD;\n",
              "  }\n",
              "\n",
              "  [theme=dark] .colab-df-quickchart {\n",
              "      --bg-color: #3B4455;\n",
              "      --fill-color: #D2E3FC;\n",
              "      --hover-bg-color: #434B5C;\n",
              "      --hover-fill-color: #FFFFFF;\n",
              "      --disabled-bg-color: #3B4455;\n",
              "      --disabled-fill-color: #666;\n",
              "  }\n",
              "\n",
              "  .colab-df-quickchart {\n",
              "    background-color: var(--bg-color);\n",
              "    border: none;\n",
              "    border-radius: 50%;\n",
              "    cursor: pointer;\n",
              "    display: none;\n",
              "    fill: var(--fill-color);\n",
              "    height: 32px;\n",
              "    padding: 0;\n",
              "    width: 32px;\n",
              "  }\n",
              "\n",
              "  .colab-df-quickchart:hover {\n",
              "    background-color: var(--hover-bg-color);\n",
              "    box-shadow: 0 1px 2px rgba(60, 64, 67, 0.3), 0 1px 3px 1px rgba(60, 64, 67, 0.15);\n",
              "    fill: var(--button-hover-fill-color);\n",
              "  }\n",
              "\n",
              "  .colab-df-quickchart-complete:disabled,\n",
              "  .colab-df-quickchart-complete:disabled:hover {\n",
              "    background-color: var(--disabled-bg-color);\n",
              "    fill: var(--disabled-fill-color);\n",
              "    box-shadow: none;\n",
              "  }\n",
              "\n",
              "  .colab-df-spinner {\n",
              "    border: 2px solid var(--fill-color);\n",
              "    border-color: transparent;\n",
              "    border-bottom-color: var(--fill-color);\n",
              "    animation:\n",
              "      spin 1s steps(1) infinite;\n",
              "  }\n",
              "\n",
              "  @keyframes spin {\n",
              "    0% {\n",
              "      border-color: transparent;\n",
              "      border-bottom-color: var(--fill-color);\n",
              "      border-left-color: var(--fill-color);\n",
              "    }\n",
              "    20% {\n",
              "      border-color: transparent;\n",
              "      border-left-color: var(--fill-color);\n",
              "      border-top-color: var(--fill-color);\n",
              "    }\n",
              "    30% {\n",
              "      border-color: transparent;\n",
              "      border-left-color: var(--fill-color);\n",
              "      border-top-color: var(--fill-color);\n",
              "      border-right-color: var(--fill-color);\n",
              "    }\n",
              "    40% {\n",
              "      border-color: transparent;\n",
              "      border-right-color: var(--fill-color);\n",
              "      border-top-color: var(--fill-color);\n",
              "    }\n",
              "    60% {\n",
              "      border-color: transparent;\n",
              "      border-right-color: var(--fill-color);\n",
              "    }\n",
              "    80% {\n",
              "      border-color: transparent;\n",
              "      border-right-color: var(--fill-color);\n",
              "      border-bottom-color: var(--fill-color);\n",
              "    }\n",
              "    90% {\n",
              "      border-color: transparent;\n",
              "      border-bottom-color: var(--fill-color);\n",
              "    }\n",
              "  }\n",
              "</style>\n",
              "\n",
              "  <script>\n",
              "    async function quickchart(key) {\n",
              "      const quickchartButtonEl =\n",
              "        document.querySelector('#' + key + ' button');\n",
              "      quickchartButtonEl.disabled = true;  // To prevent multiple clicks.\n",
              "      quickchartButtonEl.classList.add('colab-df-spinner');\n",
              "      try {\n",
              "        const charts = await google.colab.kernel.invokeFunction(\n",
              "            'suggestCharts', [key], {});\n",
              "      } catch (error) {\n",
              "        console.error('Error during call to suggestCharts:', error);\n",
              "      }\n",
              "      quickchartButtonEl.classList.remove('colab-df-spinner');\n",
              "      quickchartButtonEl.classList.add('colab-df-quickchart-complete');\n",
              "    }\n",
              "    (() => {\n",
              "      let quickchartButtonEl =\n",
              "        document.querySelector('#df-d361d901-d69c-4c70-bdd0-0f6b24560147 button');\n",
              "      quickchartButtonEl.style.display =\n",
              "        google.colab.kernel.accessAllowed ? 'block' : 'none';\n",
              "    })();\n",
              "  </script>\n",
              "</div>\n",
              "    </div>\n",
              "  </div>\n"
            ],
            "text/plain": [
              "                                 Title  Rank Lifetime Gross  Overall Rank  \\\n",
              "0                        Incredibles 2     1   $608,581,744            14   \n",
              "1          The Super Mario Bros. Movie     2   $574,934,330            15   \n",
              "2                        The Lion King     3   $543,638,043            16   \n",
              "3                 Beauty and the Beast     4   $504,481,165            20   \n",
              "4                         Finding Dory     5   $486,295,561            21   \n",
              "..                                 ...   ...            ...           ...   \n",
              "195  The Lego Movie 2: The Second Part   196   $105,956,290           722   \n",
              "196               The First Wives Club   197   $105,489,203           725   \n",
              "197               George of the Jungle   198   $105,263,257           729   \n",
              "198                       The Graduate   199   $104,945,305           731   \n",
              "199                         Phenomenon   200   $104,636,382           733   \n",
              "\n",
              "     Year  \n",
              "0    2018  \n",
              "1    2023  \n",
              "2    2019  \n",
              "3    2017  \n",
              "4    2016  \n",
              "..    ...  \n",
              "195  2019  \n",
              "196  1996  \n",
              "197  1997  \n",
              "198  1967  \n",
              "199  1996  \n",
              "\n",
              "[200 rows x 5 columns]"
            ]
          },
          "execution_count": 2,
          "metadata": {},
          "output_type": "execute_result"
        }
      ],
      "source": [
        "from bs4 import BeautifulSoup\n",
        "import pandas as pd\n",
        "from matplotlib import pyplot as plt\n",
        "import requests\n",
        "\n",
        "url = \"https://www.boxofficemojo.com/chart/mpaa_title_lifetime_gross/?by_mpaa=PG\"\n",
        "response = requests.get(url)\n",
        "\n",
        "soup = BeautifulSoup(response.content, \"html.parser\")\n",
        "\n",
        "movies_by_mpaa_rating = soup.find('table', attrs={'class': \"a-bordered\"})\n",
        "\n",
        "\n",
        "movies_by_mpaa_rating_df = pd.read_html(str(movies_by_mpaa_rating))\n",
        "movies_by_mpaa_rating_df = pd.DataFrame(movies_by_mpaa_rating_df[0])\n",
        "\n",
        "movies_by_mpaa_rating_df"
      ]
    },
    {
      "cell_type": "markdown",
      "metadata": {
        "id": "I3BlBlqjq7ZA"
      },
      "source": [
        "# **DATA TRANFORMATION**"
      ]
    },
    {
      "cell_type": "code",
      "execution_count": 3,
      "metadata": {
        "colab": {
          "base_uri": "https://localhost:8080/"
        },
        "id": "7a2fBZdTqxMu",
        "outputId": "931879d3-48e8-499c-eafb-dcc61001d29d"
      },
      "outputs": [
        {
          "name": "stdout",
          "output_type": "stream",
          "text": [
            " Number of duplicates before : 0\n",
            " Number of duplicates after removing : 0\n",
            "<class 'pandas.core.frame.DataFrame'>\n",
            "RangeIndex: 200 entries, 0 to 199\n",
            "Data columns (total 5 columns):\n",
            " #   Column          Non-Null Count  Dtype \n",
            "---  ------          --------------  ----- \n",
            " 0   Title           200 non-null    object\n",
            " 1   Rank            200 non-null    int64 \n",
            " 2   Lifetime Gross  200 non-null    object\n",
            " 3   Overall Rank    200 non-null    int64 \n",
            " 4   Year            200 non-null    int64 \n",
            "dtypes: int64(3), object(2)\n",
            "memory usage: 7.9+ KB\n"
          ]
        }
      ],
      "source": [
        "# checking and removing duplicates\n",
        "number_of_duplicates = movies_by_mpaa_rating_df.duplicated().sum()\n",
        "print (f\" Number of duplicates before : {number_of_duplicates}\")\n",
        "final_data = movies_by_mpaa_rating_df.drop_duplicates()\n",
        "number_of_duplicates = final_data.duplicated().sum()\n",
        "print (f\" Number of duplicates after removing : {number_of_duplicates}\")\n",
        "\n",
        "\n",
        "# checking for noisy entries\n",
        "movies_by_mpaa_rating_df.info()\n"
      ]
    },
    {
      "cell_type": "markdown",
      "metadata": {
        "id": "nlTRPXfbtSik"
      },
      "source": [
        "There are no noisy entries too, AKA null entries out of the 200 rows we are considering in our webscraped data set. But, we have encountered a problem here.\n",
        "\n",
        "**The Lifetime Gross column in our data frame has the data type of an object, which is not a numerical value (Int/Float). Hence, we need to convert this column to a float variable so we can manipulate it and visualize it.**"
      ]
    },
    {
      "cell_type": "code",
      "execution_count": 4,
      "metadata": {
        "colab": {
          "base_uri": "https://localhost:8080/"
        },
        "id": "ceWZjq3Rrrjh",
        "outputId": "ae63e1ab-38d1-4391-e872-acabfd85a15b"
      },
      "outputs": [
        {
          "name": "stdout",
          "output_type": "stream",
          "text": [
            "                                 Title  Rank  Lifetime Gross  Overall Rank  \\\n",
            "0                        Incredibles 2     1     608581744.0            14   \n",
            "1          The Super Mario Bros. Movie     2     574934330.0            15   \n",
            "2                        The Lion King     3     543638043.0            16   \n",
            "3                 Beauty and the Beast     4     504481165.0            20   \n",
            "4                         Finding Dory     5     486295561.0            21   \n",
            "..                                 ...   ...             ...           ...   \n",
            "195  The Lego Movie 2: The Second Part   196     105956290.0           722   \n",
            "196               The First Wives Club   197     105489203.0           725   \n",
            "197               George of the Jungle   198     105263257.0           729   \n",
            "198                       The Graduate   199     104945305.0           731   \n",
            "199                         Phenomenon   200     104636382.0           733   \n",
            "\n",
            "     Year  \n",
            "0    2018  \n",
            "1    2023  \n",
            "2    2019  \n",
            "3    2017  \n",
            "4    2016  \n",
            "..    ...  \n",
            "195  2019  \n",
            "196  1996  \n",
            "197  1997  \n",
            "198  1967  \n",
            "199  1996  \n",
            "\n",
            "[200 rows x 5 columns]\n"
          ]
        }
      ],
      "source": [
        "# REMOVING COMMAS\n",
        "# define a lambda function to first remove the commas in the dollar amounts of values\n",
        "remove_commas = lambda x: x.replace(',','')\n",
        "\n",
        "# apply the lambda function to the 'Lifetime Gross' column\n",
        "movies_by_mpaa_rating_df[\"Lifetime Gross\"] = movies_by_mpaa_rating_df[\"Lifetime Gross\"].apply(remove_commas)\n",
        "\n",
        "# REMOVING DOLLAR SIGN + CONVERTING TO FLOAT\n",
        "# define a lambda function to first remove the dollar sign and convert to float data type\n",
        "remove_dollar_sign = lambda x: float(x.replace('$',''))\n",
        "\n",
        "# apply the lambda function to the 'Lifetime Gross' column\n",
        "movies_by_mpaa_rating_df[\"Lifetime Gross\"] = movies_by_mpaa_rating_df[\"Lifetime Gross\"].apply(remove_dollar_sign)\n",
        "\n",
        "# print the dataframe\n",
        "print(movies_by_mpaa_rating_df)"
      ]
    },
    {
      "cell_type": "code",
      "execution_count": 5,
      "metadata": {
        "colab": {
          "base_uri": "https://localhost:8080/"
        },
        "id": "NFx79pzgA-OV",
        "outputId": "5ab79a8e-bb1e-4812-dd76-6f064d783f48"
      },
      "outputs": [
        {
          "name": "stdout",
          "output_type": "stream",
          "text": [
            "<class 'pandas.core.frame.DataFrame'>\n",
            "RangeIndex: 200 entries, 0 to 199\n",
            "Data columns (total 5 columns):\n",
            " #   Column          Non-Null Count  Dtype  \n",
            "---  ------          --------------  -----  \n",
            " 0   Title           200 non-null    object \n",
            " 1   Rank            200 non-null    int64  \n",
            " 2   Lifetime Gross  200 non-null    float64\n",
            " 3   Overall Rank    200 non-null    int64  \n",
            " 4   Year            200 non-null    int64  \n",
            "dtypes: float64(1), int64(3), object(1)\n",
            "memory usage: 7.9+ KB\n"
          ]
        }
      ],
      "source": [
        "movies_by_mpaa_rating_df.info()"
      ]
    },
    {
      "cell_type": "markdown",
      "metadata": {
        "id": "XLJfuzPsOWZs"
      },
      "source": [
        "Now that we are satisfied with our data after extraction and tansformation stages, let's load it into a CSV."
      ]
    },
    {
      "cell_type": "markdown",
      "metadata": {
        "id": "3FWfiArHXIfv"
      },
      "source": [
        "# **DATA LOADING**"
      ]
    },
    {
      "cell_type": "code",
      "execution_count": 9,
      "metadata": {
        "id": "qYktTYyqObim"
      },
      "outputs": [],
      "source": [
        "movies_by_mpaa_rating_df.to_csv(\"MPAA ratings of PG movies by Lifetime Gross.csv\")"
      ]
    },
    {
      "cell_type": "markdown",
      "metadata": {
        "id": "9ThtGpGmXK-m"
      },
      "source": []
    },
    {
      "cell_type": "code",
      "execution_count": 10,
      "metadata": {
        "colab": {
          "base_uri": "https://localhost:8080/"
        },
        "id": "LVI9eEiG-rt0",
        "outputId": "4acd93c5-525d-4d97-fb8c-597ea46baf75"
      },
      "outputs": [
        {
          "data": {
            "text/plain": [
              "count    2.000000e+02\n",
              "mean     1.954078e+08\n",
              "std      9.943689e+07\n",
              "min      1.046364e+08\n",
              "25%      1.245221e+08\n",
              "50%      1.628925e+08\n",
              "75%      2.355047e+08\n",
              "max      6.085817e+08\n",
              "Name: Lifetime Gross, dtype: float64"
            ]
          },
          "execution_count": 10,
          "metadata": {},
          "output_type": "execute_result"
        }
      ],
      "source": [
        "# filter to two columns\n",
        "rank_of_movies = movies_by_mpaa_rating_df[\"Rank\"]\n",
        "lifetime_gross = movies_by_mpaa_rating_df[\"Lifetime Gross\"]\n",
        "\n",
        "# rank_of_movies\n",
        "lifetime_gross\n",
        "\n",
        "lifetime_gross.describe()"
      ]
    },
    {
      "cell_type": "markdown",
      "metadata": {
        "id": "tfllmbckbG8s"
      },
      "source": [
        "Some important points to note from teh descriptive statstics above for the Lifetime Gross:\n",
        "1. The median is smaller than the mean, which suggests that the data is right skewed.\n",
        "2. The average is much lower than the maximum, which also suggests a heavy presence of outliers.\n",
        "\n",
        "Further analysis will be discussed below."
      ]
    },
    {
      "cell_type": "code",
      "execution_count": 11,
      "metadata": {
        "colab": {
          "base_uri": "https://localhost:8080/",
          "height": 500
        },
        "id": "U27Rxy8UCILZ",
        "outputId": "7ad330ca-721d-416e-cbaa-2ca8b248796d"
      },
      "outputs": [
        {
          "data": {
            "text/plain": [
              "Text(0.5, 1.0, 'MPAA Rank of top 200 PG movies versus the Gross Revenue they made in their Lifetime')"
            ]
          },
          "execution_count": 11,
          "metadata": {},
          "output_type": "execute_result"
        },
        {
          "data": {
            "image/png": "[encoded data removed]",
            "text/plain": [
              "<Figure size 640x480 with 1 Axes>"
            ]
          },
          "metadata": {},
          "output_type": "display_data"
        }
      ],
      "source": [
        "plt.plot(rank_of_movies,lifetime_gross, marker='o')\n",
        "\n",
        "plt.xlabel(\"MPAA Rank (1 being highest, 200 being lowest)\")\n",
        "plt.ylabel(\"Lifetime Gross Revenue made in Hundred Million USD\")\n",
        "\n",
        "plt.title(\"MPAA Rank of top 200 PG movies versus the Gross Revenue they made in their Lifetime\")"
      ]
    },
    {
      "cell_type": "markdown",
      "metadata": {
        "id": "RYm2q6zMDjJY"
      },
      "source": [
        "In the line graph above, we have plotted the MPAA Rank received by the movie on the x-axis, and the Lifetime Gross Revenue on the y-axis. Since our independent variable is a rank, we have to remember that 1 is the highest rank, and 200 is the lowest rank—so even though the ranking is increasing, it's technically decreasing. We can observe a strong and sharp exponential decay in the trend of the line graph here. As the MPAA rank increases, we see that the Lifetime Gross the movie has made decreasing. We can tell its exponential decay since for movies with ranks between 0-25, their revenue ranged from over 600 Million USD to 300 Million USD, but then for movies with ranks from 25-200, their revenue range was much smaller, from around 300 Million to around 100 Million.\n",
        "\n",
        "Apart from the general expected trend, the concentration of data is also interesting to observe here. We can view that most of the data markers are concentrated on towards the bottom, or how most of them after the 25th Rank, have revenues lower than 300 Million USD. This makes me curious about the Spread of the Lifetime Gross as well.\n",
        "\n",
        "If we observe the Descriptive Statistics for the Lifetime Gross above, we can view that the difference between the 75th quartile at 235 Million USD is much smaller than the maximum revenue earnt at 608 Million USD. We can further visualize this using a boxplot.\n",
        "\n",
        "\n",
        "\n",
        "\n"
      ]
    },
    {
      "cell_type": "code",
      "execution_count": 13,
      "metadata": {
        "colab": {
          "base_uri": "https://localhost:8080/",
          "height": 483
        },
        "id": "yVI6FxlLZB2d",
        "outputId": "496c2e28-25a4-4fdc-8dba-aa6903e943a6"
      },
      "outputs": [
        {
          "data": {
            "text/plain": [
              "Text(0, 0.5, 'Lifetime Gross in Hundred Million USD')"
            ]
          },
          "execution_count": 13,
          "metadata": {},
          "output_type": "execute_result"
        },
        {
          "data": {
            "image/png": "[encoded data removed]",
            "text/plain": [
              "<Figure size 640x480 with 1 Axes>"
            ]
          },
          "metadata": {},
          "output_type": "display_data"
        }
      ],
      "source": [
        "plt.boxplot(lifetime_gross)\n",
        "\n",
        "plt.xlabel(\"Lifetime Gross\")\n",
        "plt.ylabel(\"Lifetime Gross in Hundred Million USD\")"
      ]
    },
    {
      "cell_type": "markdown",
      "metadata": {
        "id": "EokJCDKVafyb"
      },
      "source": [
        "The Boxplot above for the Lifetime Gross does substantially provide more evidence for our findings from the line plot. The data points over 400 Million USD are all considered to be outliers as seen in the boxplot. Moreover, the 3rd quartile is much smaller than the maximum revenue earnt as discussed above. This goes to show that the PG movies earning revenues over around 400 Million is often unusual, and must be considered a grand success for the movie team. I have achieved my goal in analyzing the trends in Lifetime Gross. "
      ]
    }
  ],
  "metadata": {
    "colab": {
      "provenance": []
    },
    "kernelspec": {
      "display_name": "Python 3",
      "name": "python3"
    },
    "language_info": {
      "name": "python"
    }
  },
  "nbformat": 4,
  "nbformat_minor": 0
}
